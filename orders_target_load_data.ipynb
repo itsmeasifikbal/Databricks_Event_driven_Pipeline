{
 "cells": [
  {
   "cell_type": "code",
   "execution_count": 0,
   "metadata": {
    "application/vnd.databricks.v1+cell": {
     "cellMetadata": {},
     "inputWidgets": {},
     "nuid": "50b61574-8ba9-45a0-80a3-4cd2e0fa933a",
     "showTitle": false,
     "tableResultSettingsMap": {},
     "title": ""
    }
   },
   "outputs": [],
   "source": [
    "from delta.tables import *\n",
    "\n",
    "stage_table_name = \"incremental_data_load_catalog_1.default.orders_stage\"\n",
    "target_table_name = \"incremental_data_load_catalog_1.default.orders_target\""
   ]
  },
  {
   "cell_type": "code",
   "execution_count": 0,
   "metadata": {
    "application/vnd.databricks.v1+cell": {
     "cellMetadata": {},
     "inputWidgets": {},
     "nuid": "dd213eeb-f5cd-4e71-9fe9-da60afea7e20",
     "showTitle": false,
     "tableResultSettingsMap": {},
     "title": ""
    }
   },
   "outputs": [],
   "source": [
    "# Read the data from the stage table\n",
    "stage_df = spark.read.table(stage_table_name)"
   ]
  },
  {
   "cell_type": "code",
   "execution_count": 0,
   "metadata": {
    "application/vnd.databricks.v1+cell": {
     "cellMetadata": {},
     "inputWidgets": {},
     "nuid": "df0b9c1b-d52a-4c5f-95dc-61d805aed01e",
     "showTitle": false,
     "tableResultSettingsMap": {},
     "title": ""
    }
   },
   "outputs": [],
   "source": [
    "# Create equivalent target table schema if target table doesn't exist\n",
    "\n",
    "if not spark._jsparkSession.catalog().tableExists(target_table_name):\n",
    "    stage_df.write.format(\"delta\").saveAsTable(target_table_name)\n",
    "    \n",
    "else:\n",
    "    # Perform delta table merge query for upsert based on tracking_num column\n",
    "    target_table = DeltaTable.forName(spark, target_table_name)\n",
    "\n",
    "    # Define the merge condition based on the tracking_num column\n",
    "    merge_condition = \"stage.tracking_num = target.tracking_num\"\n",
    "\n",
    "    # Execute the merge operation\n",
    "    target_table.alias(\"target\") \\\n",
    "        .merge(stage_df.alias(\"stage\"), merge_condition) \\\n",
    "        .whenMatchedDelete() \\\n",
    "        .execute()\n",
    "\n",
    "    stage_df.write.format(\"delta\").mode(\"append\").saveAsTable(target_table_name)"
   ]
  }
 ],
 "metadata": {
  "application/vnd.databricks.v1+notebook": {
   "computePreferences": null,
   "dashboards": [],
   "environmentMetadata": {
    "base_environment": "",
    "environment_version": "2"
   },
   "inputWidgetPreferences": null,
   "language": "python",
   "notebookMetadata": {
    "pythonIndentUnit": 4
   },
   "notebookName": "orders_target_load_data",
   "widgets": {}
  },
  "language_info": {
   "name": "python"
  }
 },
 "nbformat": 4,
 "nbformat_minor": 0
}
